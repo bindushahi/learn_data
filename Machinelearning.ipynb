{
 "cells": [
  {
   "cell_type": "markdown",
   "id": "47605562-996f-4987-a368-d27fb5543e18",
   "metadata": {},
   "source": [
    "# Machine Learning"
   ]
  },
  {
   "cell_type": "markdown",
   "id": "6ccba72d-ac46-4a74-bf72-05fb747b4eb6",
   "metadata": {},
   "source": [
    "Input  Output     formula\n",
    "2        6        2**3 -2\n",
    "3        24       3**3 - 3\n",
    "4        60       4**3 - 4 \n",
    "5        120       5**3 - 5\n",
    "\n",
    "formula\n",
    "model\n",
    "\n",
    "\n",
    "Traditional method\n",
    "input \n",
    "formula\n",
    "\n",
    "x=5   y=x**3"
   ]
  },
  {
   "cell_type": "code",
   "execution_count": null,
   "id": "871d58d7-45ad-4173-aae3-fc63c7b774a7",
   "metadata": {},
   "outputs": [],
   "source": []
  }
 ],
 "metadata": {
  "kernelspec": {
   "display_name": "Python [conda env:base] *",
   "language": "python",
   "name": "conda-base-py"
  },
  "language_info": {
   "codemirror_mode": {
    "name": "ipython",
    "version": 3
   },
   "file_extension": ".py",
   "mimetype": "text/x-python",
   "name": "python",
   "nbconvert_exporter": "python",
   "pygments_lexer": "ipython3",
   "version": "3.12.7"
  }
 },
 "nbformat": 4,
 "nbformat_minor": 5
}
