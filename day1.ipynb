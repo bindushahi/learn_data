{
 "cells": [
  {
   "cell_type": "code",
   "execution_count": 10,
   "id": "06d629a8-88ba-42e2-9930-d9f95910d26e",
   "metadata": {},
   "outputs": [
    {
     "name": "stdout",
     "output_type": "stream",
     "text": [
      "Data Science\n",
      "10\n"
     ]
    }
   ],
   "source": [
    "print('Data Science')\n",
    "a=3\n",
    "b=7\n",
    "print(a+b)"
   ]
  },
  {
   "cell_type": "markdown",
   "id": "bd6ed02e-30fc-4755-8c84-de168ce10dc8",
   "metadata": {},
   "source": [
    "# heading1"
   ]
  },
  {
   "cell_type": "markdown",
   "id": "422a0603-e860-4c66-8d4a-025ab09f5926",
   "metadata": {},
   "source": [
    "## heading2    #is used for heading purpose"
   ]
  },
  {
   "cell_type": "markdown",
   "id": "a50831ea-ae37-4faf-b4e7-0fba8c5312d8",
   "metadata": {},
   "source": [
    "- (- is used for listing)\n",
    "\n",
    "- "
   ]
  },
  {
   "cell_type": "markdown",
   "id": "8923f26f-18cd-49a8-be7f-749a2a9813f0",
   "metadata": {},
   "source": [
    "1. A\n",
    "2. "
   ]
  },
  {
   "cell_type": "markdown",
   "id": "55372e06-7adc-40bd-ad3a-8436614d9e84",
   "metadata": {},
   "source": [
    "run- ctrl+enter   and shift+ enter\n",
    "add cell: +\n",
    "            esc + b\n"
   ]
  },
  {
   "cell_type": "markdown",
   "id": "da5172a4-85e6-4cb0-8433-bf3f8b07f89b",
   "metadata": {},
   "source": [
    "# Numpy  (LIBRARY)\n"
   ]
  },
  {
   "cell_type": "markdown",
   "id": "0758ddf4-8472-497b-8fa7-8755ab25b6e5",
   "metadata": {},
   "source": [
    "- Used for numerical python\n",
    "- computing/statistical\n",
    "- homogenous (data type should be same eithere number or alphabet can't be mix)"
   ]
  },
  {
   "cell_type": "code",
   "execution_count": 22,
   "id": "0953317e-edbe-4f3c-b2d4-7f24061ed4b8",
   "metadata": {},
   "outputs": [
    {
     "name": "stdout",
     "output_type": "stream",
     "text": [
      "[5, 6, 7, 8, 'data']\n"
     ]
    }
   ],
   "source": [
    "abc=[5,6,7,8,'data']\n",
    "print(abc)"
   ]
  },
  {
   "cell_type": "code",
   "execution_count": 28,
   "id": "4a376651-4255-4f61-ae0c-71b2235526e3",
   "metadata": {},
   "outputs": [
    {
     "name": "stdout",
     "output_type": "stream",
     "text": [
      "Requirement already satisfied: numpy in c:\\users\\user\\anaconda3\\lib\\site-packages (1.26.4)\n"
     ]
    }
   ],
   "source": [
    "!pip install numpy"
   ]
  },
  {
   "cell_type": "code",
   "execution_count": 5,
   "id": "30e5b8f0-e728-4c2e-8ae1-d90b4769c1a5",
   "metadata": {},
   "outputs": [],
   "source": [
    "import numpy as np"
   ]
  },
  {
   "cell_type": "code",
   "execution_count": 45,
   "id": "5e3d67cb-9c0c-49c3-8adb-2961c9bdaa7f",
   "metadata": {},
   "outputs": [
    {
     "name": "stdout",
     "output_type": "stream",
     "text": [
      "[ 5  7  4  9 11]\n"
     ]
    }
   ],
   "source": [
    "x= np.array([5,7,4,9,11])\n",
    "print(x)"
   ]
  },
  {
   "cell_type": "markdown",
   "id": "f51f16ee-ccbb-4361-9d8a-4b41b65cde20",
   "metadata": {},
   "source": [
    "1. indexing\n",
    "2. slicing\n",
    "3. attributes, shape, size, ndim, type"
   ]
  },
  {
   "cell_type": "code",
   "execution_count": 41,
   "id": "63f00a4e-19c8-473a-950d-639a78bcd7d4",
   "metadata": {},
   "outputs": [
    {
     "name": "stdout",
     "output_type": "stream",
     "text": [
      "[6 7 8 3]\n",
      "[5 7 3]\n",
      "[5 6 7 8 3 1]\n",
      "[1 3 8 7 6 5]\n",
      "[6 7 8 3]\n",
      "[]\n",
      "[3 8 7]\n"
     ]
    }
   ],
   "source": [
    "#slicing             x[startindex:stopindex]\n",
    "#x syntax is [start index: stop index: step]   #by default is 1\n",
    "x=np.array([5,6,7,8,3,1])\n",
    "print(x[1:5])\n",
    "\n",
    "print(x[:5:2])\n",
    "\n",
    "print(x[: :])\n",
    "\n",
    "print(x[::-1])\n",
    "print(x[1: -1])\n",
    "print(x[-2:1])\n",
    "print(x[-2:1:-1])"
   ]
  },
  {
   "cell_type": "code",
   "execution_count": 43,
   "id": "2f3dfb8c-75d8-4368-9e3d-ea06d0a0016d",
   "metadata": {},
   "outputs": [
    {
     "name": "stdout",
     "output_type": "stream",
     "text": [
      "[5 6 7 8 3 1]\n"
     ]
    }
   ],
   "source": [
    "#modification\n",
    "print(x)"
   ]
  },
  {
   "cell_type": "code",
   "execution_count": 45,
   "id": "691cdacc-0aa6-4670-9b6b-606d5f609b9c",
   "metadata": {},
   "outputs": [
    {
     "name": "stdout",
     "output_type": "stream",
     "text": [
      "[ 5  6  7 11  3  1]\n"
     ]
    }
   ],
   "source": [
    "x[3]=11\n",
    "print(x)"
   ]
  },
  {
   "cell_type": "code",
   "execution_count": 47,
   "id": "254fc431-aaa8-4675-9111-e2658e84ce41",
   "metadata": {},
   "outputs": [
    {
     "name": "stdout",
     "output_type": "stream",
     "text": [
      "[5 6 7]\n"
     ]
    }
   ],
   "source": [
    "#copying\n",
    "y=x[0:3]\n",
    "print(y)"
   ]
  },
  {
   "cell_type": "code",
   "execution_count": 49,
   "id": "5550e511-ff50-4138-9968-03f72f6ae584",
   "metadata": {},
   "outputs": [
    {
     "name": "stdout",
     "output_type": "stream",
     "text": [
      "[15  6  7]\n"
     ]
    }
   ],
   "source": [
    "y[0]=15\n",
    "print(y)"
   ]
  },
  {
   "cell_type": "code",
   "execution_count": 51,
   "id": "06bec64c-4f05-452f-89e4-aa7e79442790",
   "metadata": {},
   "outputs": [
    {
     "name": "stdout",
     "output_type": "stream",
     "text": [
      "[15  6  7 11  3  1]\n"
     ]
    }
   ],
   "source": [
    "print(x)"
   ]
  },
  {
   "cell_type": "code",
   "execution_count": 55,
   "id": "210bd835-0d84-4ed1-9d7b-ab44df50da2e",
   "metadata": {},
   "outputs": [
    {
     "name": "stdout",
     "output_type": "stream",
     "text": [
      "[5 6 7]\n"
     ]
    }
   ],
   "source": [
    "#copy view   .copy function is used to create independent memory location else store in same location\n",
    "x=np.array([5,6,7,8,3,1])\n",
    "\n",
    "y=x[0:3].copy()\n",
    "print(y)"
   ]
  },
  {
   "cell_type": "code",
   "execution_count": 57,
   "id": "042635c1-53d1-4fe2-aac6-ff807c6dc0aa",
   "metadata": {},
   "outputs": [
    {
     "name": "stdout",
     "output_type": "stream",
     "text": [
      "[ 5 19  7]\n"
     ]
    }
   ],
   "source": [
    "y[1]=19\n",
    "print(y)"
   ]
  },
  {
   "cell_type": "code",
   "execution_count": 59,
   "id": "8958837c-adc7-4792-a54b-3a5e7ca600e7",
   "metadata": {},
   "outputs": [
    {
     "name": "stdout",
     "output_type": "stream",
     "text": [
      "[5 6 7 8 3 1]\n"
     ]
    }
   ],
   "source": [
    "print(x)"
   ]
  },
  {
   "cell_type": "markdown",
   "id": "4f0b9708-3463-4f72-b8a5-2e02180db03a",
   "metadata": {},
   "source": [
    "## functions\n",
    "1. np.sum()\n",
    "2. np.prod()\n",
    "   \n",
    "4. np.min()\n",
    "5. np.max()\n",
    "   \n",
    "7. np.mean()\n",
    "8. np.std()\n",
    "\n",
    "10. np.median()\n",
    "11. np.sort()\n",
    "12. np.unique()"
   ]
  },
  {
   "cell_type": "code",
   "execution_count": 112,
   "id": "b923d7e1-82d4-4446-bd8d-b7d7e2d7671b",
   "metadata": {},
   "outputs": [
    {
     "name": "stdout",
     "output_type": "stream",
     "text": [
      "Sum=31\n",
      "Product=2730\n",
      "1\n",
      "13\n",
      "4.017323597731316\n",
      "4.0\n"
     ]
    }
   ],
   "source": [
    "x=np.array([5,2,7,13,3,1])\n",
    "\n",
    "\n",
    "sum=np.sum(x)\n",
    "# print(sum)\n",
    "print(f'Sum={sum}')\n",
    "\n",
    "prod=np.prod(x)\n",
    "print(f'Product={prod}')\n",
    "\n",
    "min=np.min(x)\n",
    "print(min)\n",
    "\n",
    "max=np.max(x)\n",
    "print(max)\n",
    "    \n",
    "std=np.std(x)\n",
    "print(std)\n",
    "\n",
    "median=np.median(x)\n",
    "print(median)"
   ]
  },
  {
   "cell_type": "code",
   "execution_count": 120,
   "id": "7130de56-b6c8-429d-947f-1f3cc7ceafd8",
   "metadata": {},
   "outputs": [
    {
     "name": "stdout",
     "output_type": "stream",
     "text": [
      "Mean=5.166666666666667\n",
      "Mean=5.17\n",
      "Mean=5.1667\n"
     ]
    }
   ],
   "source": [
    "mean=np.mean(x)\n",
    "print(f'Mean={mean}')\n",
    "\n",
    "mean=np.mean(x)\n",
    "print(f'Mean={mean:.2f}')\n",
    "\n",
    "mean=np.mean(x)\n",
    "print(f'Mean={mean:.4f}')"
   ]
  },
  {
   "cell_type": "code",
   "execution_count": 122,
   "id": "3bc4a7fc-5371-4a9d-9669-3c245a2cd94c",
   "metadata": {},
   "outputs": [
    {
     "name": "stdout",
     "output_type": "stream",
     "text": [
      "[ 1  2  3  5  7 13]\n"
     ]
    }
   ],
   "source": [
    "#sorting\n",
    "sorted = np.sort(x)\n",
    "print(sorted) "
   ]
  },
  {
   "cell_type": "code",
   "execution_count": 128,
   "id": "08779091-c1c5-43d5-81f4-cde98a0c1ec4",
   "metadata": {},
   "outputs": [
    {
     "name": "stdout",
     "output_type": "stream",
     "text": [
      "Help on _ArrayFunctionDispatcher in module numpy:\n",
      "\n",
      "sort(a, axis=-1, kind=None, order=None)\n",
      "    Return a sorted copy of an array.\n",
      "\n",
      "    Parameters\n",
      "    ----------\n",
      "    a : array_like\n",
      "        Array to be sorted.\n",
      "    axis : int or None, optional\n",
      "        Axis along which to sort. If None, the array is flattened before\n",
      "        sorting. The default is -1, which sorts along the last axis.\n",
      "    kind : {'quicksort', 'mergesort', 'heapsort', 'stable'}, optional\n",
      "        Sorting algorithm. The default is 'quicksort'. Note that both 'stable'\n",
      "        and 'mergesort' use timsort or radix sort under the covers and, in general,\n",
      "        the actual implementation will vary with data type. The 'mergesort' option\n",
      "        is retained for backwards compatibility.\n",
      "\n",
      "        .. versionchanged:: 1.15.0.\n",
      "           The 'stable' option was added.\n",
      "\n",
      "    order : str or list of str, optional\n",
      "        When `a` is an array with fields defined, this argument specifies\n",
      "        which fields to compare first, second, etc.  A single field can\n",
      "        be specified as a string, and not all fields need be specified,\n",
      "        but unspecified fields will still be used, in the order in which\n",
      "        they come up in the dtype, to break ties.\n",
      "\n",
      "    Returns\n",
      "    -------\n",
      "    sorted_array : ndarray\n",
      "        Array of the same type and shape as `a`.\n",
      "\n",
      "    See Also\n",
      "    --------\n",
      "    ndarray.sort : Method to sort an array in-place.\n",
      "    argsort : Indirect sort.\n",
      "    lexsort : Indirect stable sort on multiple keys.\n",
      "    searchsorted : Find elements in a sorted array.\n",
      "    partition : Partial sort.\n",
      "\n",
      "    Notes\n",
      "    -----\n",
      "    The various sorting algorithms are characterized by their average speed,\n",
      "    worst case performance, work space size, and whether they are stable. A\n",
      "    stable sort keeps items with the same key in the same relative\n",
      "    order. The four algorithms implemented in NumPy have the following\n",
      "    properties:\n",
      "\n",
      "    =========== ======= ============= ============ ========\n",
      "       kind      speed   worst case    work space   stable\n",
      "    =========== ======= ============= ============ ========\n",
      "    'quicksort'    1     O(n^2)            0          no\n",
      "    'heapsort'     3     O(n*log(n))       0          no\n",
      "    'mergesort'    2     O(n*log(n))      ~n/2        yes\n",
      "    'timsort'      2     O(n*log(n))      ~n/2        yes\n",
      "    =========== ======= ============= ============ ========\n",
      "\n",
      "    .. note:: The datatype determines which of 'mergesort' or 'timsort'\n",
      "       is actually used, even if 'mergesort' is specified. User selection\n",
      "       at a finer scale is not currently available.\n",
      "\n",
      "    All the sort algorithms make temporary copies of the data when\n",
      "    sorting along any but the last axis.  Consequently, sorting along\n",
      "    the last axis is faster and uses less space than sorting along\n",
      "    any other axis.\n",
      "\n",
      "    The sort order for complex numbers is lexicographic. If both the real\n",
      "    and imaginary parts are non-nan then the order is determined by the\n",
      "    real parts except when they are equal, in which case the order is\n",
      "    determined by the imaginary parts.\n",
      "\n",
      "    Previous to numpy 1.4.0 sorting real and complex arrays containing nan\n",
      "    values led to undefined behaviour. In numpy versions >= 1.4.0 nan\n",
      "    values are sorted to the end. The extended sort order is:\n",
      "\n",
      "      * Real: [R, nan]\n",
      "      * Complex: [R + Rj, R + nanj, nan + Rj, nan + nanj]\n",
      "\n",
      "    where R is a non-nan real value. Complex values with the same nan\n",
      "    placements are sorted according to the non-nan part if it exists.\n",
      "    Non-nan values are sorted as before.\n",
      "\n",
      "    .. versionadded:: 1.12.0\n",
      "\n",
      "    quicksort has been changed to `introsort <https://en.wikipedia.org/wiki/Introsort>`_.\n",
      "    When sorting does not make enough progress it switches to\n",
      "    `heapsort <https://en.wikipedia.org/wiki/Heapsort>`_.\n",
      "    This implementation makes quicksort O(n*log(n)) in the worst case.\n",
      "\n",
      "    'stable' automatically chooses the best stable sorting algorithm\n",
      "    for the data type being sorted.\n",
      "    It, along with 'mergesort' is currently mapped to\n",
      "    `timsort <https://en.wikipedia.org/wiki/Timsort>`_\n",
      "    or `radix sort <https://en.wikipedia.org/wiki/Radix_sort>`_\n",
      "    depending on the data type.\n",
      "    API forward compatibility currently limits the\n",
      "    ability to select the implementation and it is hardwired for the different\n",
      "    data types.\n",
      "\n",
      "    .. versionadded:: 1.17.0\n",
      "\n",
      "    Timsort is added for better performance on already or nearly\n",
      "    sorted data. On random data timsort is almost identical to\n",
      "    mergesort. It is now used for stable sort while quicksort is still the\n",
      "    default sort if none is chosen. For timsort details, refer to\n",
      "    `CPython listsort.txt <https://github.com/python/cpython/blob/3.7/Objects/listsort.txt>`_.\n",
      "    'mergesort' and 'stable' are mapped to radix sort for integer data types. Radix sort is an\n",
      "    O(n) sort instead of O(n log n).\n",
      "\n",
      "    .. versionchanged:: 1.18.0\n",
      "\n",
      "    NaT now sorts to the end of arrays for consistency with NaN.\n",
      "\n",
      "    Examples\n",
      "    --------\n",
      "    >>> a = np.array([[1,4],[3,1]])\n",
      "    >>> np.sort(a)                # sort along the last axis\n",
      "    array([[1, 4],\n",
      "           [1, 3]])\n",
      "    >>> np.sort(a, axis=None)     # sort the flattened array\n",
      "    array([1, 1, 3, 4])\n",
      "    >>> np.sort(a, axis=0)        # sort along the first axis\n",
      "    array([[1, 1],\n",
      "           [3, 4]])\n",
      "\n",
      "    Use the `order` keyword to specify a field to use when sorting a\n",
      "    structured array:\n",
      "\n",
      "    >>> dtype = [('name', 'S10'), ('height', float), ('age', int)]\n",
      "    >>> values = [('Arthur', 1.8, 41), ('Lancelot', 1.9, 38),\n",
      "    ...           ('Galahad', 1.7, 38)]\n",
      "    >>> a = np.array(values, dtype=dtype)       # create a structured array\n",
      "    >>> np.sort(a, order='height')                        # doctest: +SKIP\n",
      "    array([('Galahad', 1.7, 38), ('Arthur', 1.8, 41),\n",
      "           ('Lancelot', 1.8999999999999999, 38)],\n",
      "          dtype=[('name', '|S10'), ('height', '<f8'), ('age', '<i4')])\n",
      "\n",
      "    Sort by age, then height if ages are equal:\n",
      "\n",
      "    >>> np.sort(a, order=['age', 'height'])               # doctest: +SKIP\n",
      "    array([('Galahad', 1.7, 38), ('Lancelot', 1.8999999999999999, 38),\n",
      "           ('Arthur', 1.8, 41)],\n",
      "          dtype=[('name', '|S10'), ('height', '<f8'), ('age', '<i4')])\n",
      "\n"
     ]
    }
   ],
   "source": [
    "#to check the documentation\n",
    "help(np.sort)"
   ]
  },
  {
   "cell_type": "markdown",
   "id": "09dc4816-5bd8-460e-b9d6-ccc7ae6288d0",
   "metadata": {},
   "source": [
    "#array arthimetic \n",
    "np.add()\n",
    "np.multiply()\n",
    "np.divide()\n",
    "np.floor_divide()\n",
    "np.mod()\n",
    "np.power()\n",
    "np.sqrt()\n",
    "\n",
    "\n",
    "Sort descending\tnp.sort(x)[::-1]"
   ]
  },
  {
   "cell_type": "code",
   "execution_count": 154,
   "id": "211f5316-b597-41f7-86a0-424f492eb28c",
   "metadata": {},
   "outputs": [
    {
     "name": "stdout",
     "output_type": "stream",
     "text": [
      "[6 6 7 5]\n",
      "[6 6 7 5]\n",
      "[2.         5.         0.75       0.66666667]\n",
      "[2.         5.         0.75       0.66666667]\n",
      "[2 5 0 0]\n",
      "[0 0 3 2]\n",
      "[16  5 81  8]\n",
      "[2.         2.23606798 1.73205081 1.41421356]\n",
      "[ 8  1 64 27]\n"
     ]
    }
   ],
   "source": [
    "x=np.array([4,5,3,2])\n",
    "y=np.array([2,1,4,3])\n",
    "\n",
    "z=np.add(x,y)\n",
    "print(z)\n",
    "\n",
    "z=x+y\n",
    "print(z)\n",
    "\n",
    "p=np.divide(x,y)\n",
    "print(p)\n",
    "\n",
    "p=x/y\n",
    "print(p)\n",
    "\n",
    "g=np.floor_divide(x,y)\n",
    "print(g)\n",
    "\n",
    "g=np.mod(x,y)\n",
    "print(g)\n",
    "\n",
    "g=np.power(x,y)\n",
    "print(g)\n",
    "\n",
    "g=np.sqrt(x)\n",
    "print(g)\n",
    "\n",
    "g=np.power(y,3)\n",
    "print(g)\n",
    "\n",
    "#if number of dimension is not same then also get error\n"
   ]
  },
  {
   "cell_type": "code",
   "execution_count": null,
   "id": "1414f45e-4e59-4f5b-ae3b-f7acd7445ad7",
   "metadata": {},
   "outputs": [],
   "source": [
    "#Broadcasting \n"
   ]
  }
 ],
 "metadata": {
  "kernelspec": {
   "display_name": "Python [conda env:base] *",
   "language": "python",
   "name": "conda-base-py"
  },
  "language_info": {
   "codemirror_mode": {
    "name": "ipython",
    "version": 3
   },
   "file_extension": ".py",
   "mimetype": "text/x-python",
   "name": "python",
   "nbconvert_exporter": "python",
   "pygments_lexer": "ipython3",
   "version": "3.12.7"
  }
 },
 "nbformat": 4,
 "nbformat_minor": 5
}
