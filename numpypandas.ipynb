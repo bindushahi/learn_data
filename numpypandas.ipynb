{
 "cells": [
  {
   "cell_type": "markdown",
   "id": "8350d722-57fb-4702-ae1b-97aa16799fa7",
   "metadata": {},
   "source": [
    "#use index on the basis of condition"
   ]
  },
  {
   "cell_type": "code",
   "execution_count": 16,
   "id": "9bbaf601-db39-483c-80f9-a3dc53b6346d",
   "metadata": {},
   "outputs": [],
   "source": [
    "import pandas as pd\n"
   ]
  },
  {
   "cell_type": "code",
   "execution_count": 30,
   "id": "569f2fc1-619d-4193-a5f4-835a1cf8f4f1",
   "metadata": {},
   "outputs": [],
   "source": [
    "data = pd.read_csv(\"C:/Users/user/Desktop/learn_data/Titanic-Dataset.csv\") \n"
   ]
  },
  {
   "cell_type": "code",
   "execution_count": 34,
   "id": "2491e71b-7e8b-4e29-afea-ad30fd2989ff",
   "metadata": {},
   "outputs": [
    {
     "name": "stdout",
     "output_type": "stream",
     "text": [
      "   PassengerId  Survived  Pclass  \\\n",
      "0            1         0       3   \n",
      "1            2         1       1   \n",
      "2            3         1       3   \n",
      "3            4         1       1   \n",
      "4            5         0       3   \n",
      "\n",
      "                                                Name     Sex   Age  SibSp  \\\n",
      "0                            Braund, Mr. Owen Harris    male  22.0      1   \n",
      "1  Cumings, Mrs. John Bradley (Florence Briggs Th...  female  38.0      1   \n",
      "2                             Heikkinen, Miss. Laina  female  26.0      0   \n",
      "3       Futrelle, Mrs. Jacques Heath (Lily May Peel)  female  35.0      1   \n",
      "4                           Allen, Mr. William Henry    male  35.0      0   \n",
      "\n",
      "   Parch            Ticket     Fare Cabin Embarked  \n",
      "0      0         A/5 21171   7.2500   NaN        S  \n",
      "1      0          PC 17599  71.2833   C85        C  \n",
      "2      0  STON/O2. 3101282   7.9250   NaN        S  \n",
      "3      0            113803  53.1000  C123        S  \n",
      "4      0            373450   8.0500   NaN        S  \n"
     ]
    }
   ],
   "source": [
    "print(data.head())"
   ]
  },
  {
   "cell_type": "code",
   "execution_count": 36,
   "id": "b6d20f64-3e74-4f19-8ce3-4a18cd6359d1",
   "metadata": {},
   "outputs": [
    {
     "name": "stdout",
     "output_type": "stream",
     "text": [
      "First 15 entries:\n",
      "    PassengerId  Survived  Pclass  \\\n",
      "0             1         0       3   \n",
      "1             2         1       1   \n",
      "2             3         1       3   \n",
      "3             4         1       1   \n",
      "4             5         0       3   \n",
      "5             6         0       3   \n",
      "6             7         0       1   \n",
      "7             8         0       3   \n",
      "8             9         1       3   \n",
      "9            10         1       2   \n",
      "10           11         1       3   \n",
      "11           12         1       1   \n",
      "12           13         0       3   \n",
      "13           14         0       3   \n",
      "14           15         0       3   \n",
      "\n",
      "                                                 Name     Sex   Age  SibSp  \\\n",
      "0                             Braund, Mr. Owen Harris    male  22.0      1   \n",
      "1   Cumings, Mrs. John Bradley (Florence Briggs Th...  female  38.0      1   \n",
      "2                              Heikkinen, Miss. Laina  female  26.0      0   \n",
      "3        Futrelle, Mrs. Jacques Heath (Lily May Peel)  female  35.0      1   \n",
      "4                            Allen, Mr. William Henry    male  35.0      0   \n",
      "5                                    Moran, Mr. James    male   NaN      0   \n",
      "6                             McCarthy, Mr. Timothy J    male  54.0      0   \n",
      "7                      Palsson, Master. Gosta Leonard    male   2.0      3   \n",
      "8   Johnson, Mrs. Oscar W (Elisabeth Vilhelmina Berg)  female  27.0      0   \n",
      "9                 Nasser, Mrs. Nicholas (Adele Achem)  female  14.0      1   \n",
      "10                    Sandstrom, Miss. Marguerite Rut  female   4.0      1   \n",
      "11                           Bonnell, Miss. Elizabeth  female  58.0      0   \n",
      "12                     Saundercock, Mr. William Henry    male  20.0      0   \n",
      "13                        Andersson, Mr. Anders Johan    male  39.0      1   \n",
      "14               Vestrom, Miss. Hulda Amanda Adolfina  female  14.0      0   \n",
      "\n",
      "    Parch            Ticket     Fare Cabin Embarked  \n",
      "0       0         A/5 21171   7.2500   NaN        S  \n",
      "1       0          PC 17599  71.2833   C85        C  \n",
      "2       0  STON/O2. 3101282   7.9250   NaN        S  \n",
      "3       0            113803  53.1000  C123        S  \n",
      "4       0            373450   8.0500   NaN        S  \n",
      "5       0            330877   8.4583   NaN        Q  \n",
      "6       0             17463  51.8625   E46        S  \n",
      "7       1            349909  21.0750   NaN        S  \n",
      "8       2            347742  11.1333   NaN        S  \n",
      "9       0            237736  30.0708   NaN        C  \n",
      "10      1           PP 9549  16.7000    G6        S  \n",
      "11      0            113783  26.5500  C103        S  \n",
      "12      0         A/5. 2151   8.0500   NaN        S  \n",
      "13      5            347082  31.2750   NaN        S  \n",
      "14      0            350406   7.8542   NaN        S  \n"
     ]
    }
   ],
   "source": [
    "print(\"First 15 entries:\")\n",
    "print(data.head(15))"
   ]
  },
  {
   "cell_type": "code",
   "execution_count": 38,
   "id": "cdfa3934-41da-4ee2-aa1d-9d6a0e43db13",
   "metadata": {},
   "outputs": [
    {
     "name": "stdout",
     "output_type": "stream",
     "text": [
      "<class 'pandas.core.frame.DataFrame'>\n",
      "RangeIndex: 891 entries, 0 to 890\n",
      "Data columns (total 12 columns):\n",
      " #   Column       Non-Null Count  Dtype  \n",
      "---  ------       --------------  -----  \n",
      " 0   PassengerId  891 non-null    int64  \n",
      " 1   Survived     891 non-null    int64  \n",
      " 2   Pclass       891 non-null    int64  \n",
      " 3   Name         891 non-null    object \n",
      " 4   Sex          891 non-null    object \n",
      " 5   Age          714 non-null    float64\n",
      " 6   SibSp        891 non-null    int64  \n",
      " 7   Parch        891 non-null    int64  \n",
      " 8   Ticket       891 non-null    object \n",
      " 9   Fare         891 non-null    float64\n",
      " 10  Cabin        204 non-null    object \n",
      " 11  Embarked     889 non-null    object \n",
      "dtypes: float64(2), int64(5), object(5)\n",
      "memory usage: 83.7+ KB\n"
     ]
    }
   ],
   "source": [
    "data.info()"
   ]
  },
  {
   "cell_type": "code",
   "execution_count": 43,
   "id": "599706c2-2b23-4b09-80b4-c01172a1b4c3",
   "metadata": {},
   "outputs": [],
   "source": [
    "data = pd.read_csv(\"C:/Users/user/Desktop/learn_data/Salary_Data.csv\") "
   ]
  },
  {
   "cell_type": "code",
   "execution_count": 45,
   "id": "66732825-f7c9-40dc-8da4-d5a1cce99379",
   "metadata": {},
   "outputs": [
    {
     "name": "stdout",
     "output_type": "stream",
     "text": [
      "<class 'pandas.core.frame.DataFrame'>\n",
      "RangeIndex: 6704 entries, 0 to 6703\n",
      "Data columns (total 6 columns):\n",
      " #   Column               Non-Null Count  Dtype  \n",
      "---  ------               --------------  -----  \n",
      " 0   Age                  6702 non-null   float64\n",
      " 1   Gender               6702 non-null   object \n",
      " 2   Education Level      6701 non-null   object \n",
      " 3   Job Title            6702 non-null   object \n",
      " 4   Years of Experience  6701 non-null   float64\n",
      " 5   Salary               6699 non-null   float64\n",
      "dtypes: float64(3), object(3)\n",
      "memory usage: 314.4+ KB\n"
     ]
    }
   ],
   "source": [
    "data.info()"
   ]
  },
  {
   "cell_type": "markdown",
   "id": "4bccc72d-e967-42c8-9080-6f2ca48ef73a",
   "metadata": {},
   "source": [
    "#issues\n",
    "- missing values\n",
    "- non standard/ inconsistency\n",
    "\n",
    "#read cleaning\n",
    "\n",
    "Barplot\n",
    "Histogram/kdeplot\n",
    "Scatterplot\n",
    "boxplot"
   ]
  },
  {
   "cell_type": "code",
   "execution_count": null,
   "id": "84f4b19c-5cf2-4db9-b03b-afe4e3be7b74",
   "metadata": {},
   "outputs": [],
   "source": [
    "load\n",
    "EDA\n",
    "Clean\n",
    "EDA(Explore)\n"
   ]
  }
 ],
 "metadata": {
  "kernelspec": {
   "display_name": "Python [conda env:base] *",
   "language": "python",
   "name": "conda-base-py"
  },
  "language_info": {
   "codemirror_mode": {
    "name": "ipython",
    "version": 3
   },
   "file_extension": ".py",
   "mimetype": "text/x-python",
   "name": "python",
   "nbconvert_exporter": "python",
   "pygments_lexer": "ipython3",
   "version": "3.12.7"
  }
 },
 "nbformat": 4,
 "nbformat_minor": 5
}
