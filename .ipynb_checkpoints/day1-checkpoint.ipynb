{
 "cells": [
  {
   "cell_type": "code",
   "execution_count": 10,
   "id": "06d629a8-88ba-42e2-9930-d9f95910d26e",
   "metadata": {},
   "outputs": [
    {
     "name": "stdout",
     "output_type": "stream",
     "text": [
      "Data Science\n",
      "10\n"
     ]
    }
   ],
   "source": [
    "print('Data Science')\n",
    "a=3\n",
    "b=7\n",
    "print(a+b)"
   ]
  },
  {
   "cell_type": "markdown",
   "id": "bd6ed02e-30fc-4755-8c84-de168ce10dc8",
   "metadata": {},
   "source": [
    "# heading1"
   ]
  },
  {
   "cell_type": "markdown",
   "id": "422a0603-e860-4c66-8d4a-025ab09f5926",
   "metadata": {},
   "source": [
    "## heading2    #is used for heading purpose"
   ]
  },
  {
   "cell_type": "markdown",
   "id": "a50831ea-ae37-4faf-b4e7-0fba8c5312d8",
   "metadata": {},
   "source": [
    "- (- is used for listing)\n",
    "\n",
    "- "
   ]
  },
  {
   "cell_type": "markdown",
   "id": "8923f26f-18cd-49a8-be7f-749a2a9813f0",
   "metadata": {},
   "source": [
    "1. A\n",
    "2. "
   ]
  },
  {
   "cell_type": "markdown",
   "id": "55372e06-7adc-40bd-ad3a-8436614d9e84",
   "metadata": {},
   "source": [
    "run- ctrl+enter   and shift+ enter\n",
    "add cell: +\n",
    "            esc + b\n"
   ]
  },
  {
   "cell_type": "code",
   "execution_count": null,
   "id": "89a7c2e2-a41b-4e62-94ad-3a452d28f873",
   "metadata": {},
   "outputs": [],
   "source": []
  }
 ],
 "metadata": {
  "kernelspec": {
   "display_name": "Python [conda env:base] *",
   "language": "python",
   "name": "conda-base-py"
  },
  "language_info": {
   "codemirror_mode": {
    "name": "ipython",
    "version": 3
   },
   "file_extension": ".py",
   "mimetype": "text/x-python",
   "name": "python",
   "nbconvert_exporter": "python",
   "pygments_lexer": "ipython3",
   "version": "3.12.7"
  }
 },
 "nbformat": 4,
 "nbformat_minor": 5
}
