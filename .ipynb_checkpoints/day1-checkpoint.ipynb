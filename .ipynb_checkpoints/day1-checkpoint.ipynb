{
 "cells": [
  {
   "cell_type": "code",
   "execution_count": 10,
   "id": "06d629a8-88ba-42e2-9930-d9f95910d26e",
   "metadata": {},
   "outputs": [
    {
     "name": "stdout",
     "output_type": "stream",
     "text": [
      "Data Science\n",
      "10\n"
     ]
    }
   ],
   "source": [
    "print('Data Science')\n",
    "a=3\n",
    "b=7\n",
    "print(a+b)"
   ]
  },
  {
   "cell_type": "markdown",
   "id": "bd6ed02e-30fc-4755-8c84-de168ce10dc8",
   "metadata": {},
   "source": [
    "# heading1"
   ]
  },
  {
   "cell_type": "markdown",
   "id": "422a0603-e860-4c66-8d4a-025ab09f5926",
   "metadata": {},
   "source": [
    "## heading2    #is used for heading purpose"
   ]
  },
  {
   "cell_type": "markdown",
   "id": "a50831ea-ae37-4faf-b4e7-0fba8c5312d8",
   "metadata": {},
   "source": [
    "- (- is used for listing)\n",
    "\n",
    "- "
   ]
  },
  {
   "cell_type": "markdown",
   "id": "8923f26f-18cd-49a8-be7f-749a2a9813f0",
   "metadata": {},
   "source": [
    "1. A\n",
    "2. "
   ]
  },
  {
   "cell_type": "markdown",
   "id": "55372e06-7adc-40bd-ad3a-8436614d9e84",
   "metadata": {},
   "source": [
    "run- ctrl+enter   and shift+ enter\n",
    "add cell: +\n",
    "            esc + b\n"
   ]
  },
  {
   "cell_type": "markdown",
   "id": "da5172a4-85e6-4cb0-8433-bf3f8b07f89b",
   "metadata": {},
   "source": [
    "# Numpy  (LIBRARY)\n"
   ]
  },
  {
   "cell_type": "markdown",
   "id": "0758ddf4-8472-497b-8fa7-8755ab25b6e5",
   "metadata": {},
   "source": [
    "- Used for numerical python\n",
    "- computing/statistical\n",
    "- homogenous (data type should be same eithere number or alphabet can't be mix)"
   ]
  },
  {
   "cell_type": "code",
   "execution_count": 22,
   "id": "0953317e-edbe-4f3c-b2d4-7f24061ed4b8",
   "metadata": {},
   "outputs": [
    {
     "name": "stdout",
     "output_type": "stream",
     "text": [
      "[5, 6, 7, 8, 'data']\n"
     ]
    }
   ],
   "source": [
    "abc=[5,6,7,8,'data']\n",
    "print(abc)"
   ]
  },
  {
   "cell_type": "code",
   "execution_count": 28,
   "id": "4a376651-4255-4f61-ae0c-71b2235526e3",
   "metadata": {},
   "outputs": [
    {
     "name": "stdout",
     "output_type": "stream",
     "text": [
      "Requirement already satisfied: numpy in c:\\users\\user\\anaconda3\\lib\\site-packages (1.26.4)\n"
     ]
    }
   ],
   "source": [
    "!pip install numpy"
   ]
  },
  {
   "cell_type": "code",
   "execution_count": 5,
   "id": "30e5b8f0-e728-4c2e-8ae1-d90b4769c1a5",
   "metadata": {},
   "outputs": [],
   "source": [
    "import numpy as np"
   ]
  },
  {
   "cell_type": "code",
   "execution_count": 45,
   "id": "5e3d67cb-9c0c-49c3-8adb-2961c9bdaa7f",
   "metadata": {},
   "outputs": [
    {
     "name": "stdout",
     "output_type": "stream",
     "text": [
      "[ 5  7  4  9 11]\n"
     ]
    }
   ],
   "source": [
    "x= np.array([5,7,4,9,11])\n",
    "print(x)"
   ]
  },
  {
   "cell_type": "markdown",
   "id": "f51f16ee-ccbb-4361-9d8a-4b41b65cde20",
   "metadata": {},
   "source": [
    "1. indexing\n",
    "2. slicing\n",
    "3. attributes, shape, size, ndim, type"
   ]
  },
  {
   "cell_type": "code",
   "execution_count": 41,
   "id": "63f00a4e-19c8-473a-950d-639a78bcd7d4",
   "metadata": {},
   "outputs": [
    {
     "name": "stdout",
     "output_type": "stream",
     "text": [
      "[6 7 8 3]\n",
      "[5 7 3]\n",
      "[5 6 7 8 3 1]\n",
      "[1 3 8 7 6 5]\n",
      "[6 7 8 3]\n",
      "[]\n",
      "[3 8 7]\n"
     ]
    }
   ],
   "source": [
    "#slicing             x[startindex:stopindex]\n",
    "#x syntax is [start index: stop index: step]   #by default is 1\n",
    "x=np.array([5,6,7,8,3,1])\n",
    "print(x[1:5])\n",
    "\n",
    "print(x[:5:2])\n",
    "\n",
    "print(x[: :])\n",
    "\n",
    "print(x[::-1])\n",
    "print(x[1: -1])\n",
    "print(x[-2:1])\n",
    "print(x[-2:1:-1])"
   ]
  },
  {
   "cell_type": "code",
   "execution_count": 43,
   "id": "2f3dfb8c-75d8-4368-9e3d-ea06d0a0016d",
   "metadata": {},
   "outputs": [
    {
     "name": "stdout",
     "output_type": "stream",
     "text": [
      "[5 6 7 8 3 1]\n"
     ]
    }
   ],
   "source": [
    "#modification\n",
    "print(x)"
   ]
  },
  {
   "cell_type": "code",
   "execution_count": 45,
   "id": "691cdacc-0aa6-4670-9b6b-606d5f609b9c",
   "metadata": {},
   "outputs": [
    {
     "name": "stdout",
     "output_type": "stream",
     "text": [
      "[ 5  6  7 11  3  1]\n"
     ]
    }
   ],
   "source": [
    "x[3]=11\n",
    "print(x)"
   ]
  },
  {
   "cell_type": "code",
   "execution_count": 47,
   "id": "254fc431-aaa8-4675-9111-e2658e84ce41",
   "metadata": {},
   "outputs": [
    {
     "name": "stdout",
     "output_type": "stream",
     "text": [
      "[5 6 7]\n"
     ]
    }
   ],
   "source": [
    "#copying\n",
    "y=x[0:3]\n",
    "print(y)"
   ]
  },
  {
   "cell_type": "code",
   "execution_count": 49,
   "id": "5550e511-ff50-4138-9968-03f72f6ae584",
   "metadata": {},
   "outputs": [
    {
     "name": "stdout",
     "output_type": "stream",
     "text": [
      "[15  6  7]\n"
     ]
    }
   ],
   "source": [
    "y[0]=15\n",
    "print(y)"
   ]
  },
  {
   "cell_type": "code",
   "execution_count": 51,
   "id": "06bec64c-4f05-452f-89e4-aa7e79442790",
   "metadata": {},
   "outputs": [
    {
     "name": "stdout",
     "output_type": "stream",
     "text": [
      "[15  6  7 11  3  1]\n"
     ]
    }
   ],
   "source": [
    "print(x)"
   ]
  },
  {
   "cell_type": "code",
   "execution_count": 55,
   "id": "210bd835-0d84-4ed1-9d7b-ab44df50da2e",
   "metadata": {},
   "outputs": [
    {
     "name": "stdout",
     "output_type": "stream",
     "text": [
      "[5 6 7]\n"
     ]
    }
   ],
   "source": [
    "#copy view   .copy function is used to create independent memory location else store in same location\n",
    "x=np.array([5,6,7,8,3,1])\n",
    "\n",
    "y=x[0:3].copy()\n",
    "print(y)"
   ]
  },
  {
   "cell_type": "code",
   "execution_count": 57,
   "id": "042635c1-53d1-4fe2-aac6-ff807c6dc0aa",
   "metadata": {},
   "outputs": [
    {
     "name": "stdout",
     "output_type": "stream",
     "text": [
      "[ 5 19  7]\n"
     ]
    }
   ],
   "source": [
    "y[1]=19\n",
    "print(y)"
   ]
  },
  {
   "cell_type": "code",
   "execution_count": 59,
   "id": "8958837c-adc7-4792-a54b-3a5e7ca600e7",
   "metadata": {},
   "outputs": [
    {
     "name": "stdout",
     "output_type": "stream",
     "text": [
      "[5 6 7 8 3 1]\n"
     ]
    }
   ],
   "source": [
    "print(x)"
   ]
  },
  {
   "cell_type": "markdown",
   "id": "4f0b9708-3463-4f72-b8a5-2e02180db03a",
   "metadata": {},
   "source": [
    "## functions\n",
    "1. np.sum()\n",
    "2. np.prod()\n",
    "   \n",
    "4. np.min()\n",
    "5. np.max()\n",
    "   \n",
    "7. np.mean()\n",
    "8. np.std()\n",
    "\n",
    "10. np.median()\n",
    "11. np.sort()\n",
    "12. np.unique()"
   ]
  },
  {
   "cell_type": "code",
   "execution_count": 112,
   "id": "b923d7e1-82d4-4446-bd8d-b7d7e2d7671b",
   "metadata": {},
   "outputs": [
    {
     "name": "stdout",
     "output_type": "stream",
     "text": [
      "Sum=31\n",
      "Product=2730\n",
      "1\n",
      "13\n",
      "4.017323597731316\n",
      "4.0\n"
     ]
    }
   ],
   "source": [
    "x=np.array([5,2,7,13,3,1])\n",
    "\n",
    "\n",
    "sum=np.sum(x)\n",
    "# print(sum)\n",
    "print(f'Sum={sum}')\n",
    "\n",
    "prod=np.prod(x)\n",
    "print(f'Product={prod}')\n",
    "\n",
    "min=np.min(x)\n",
    "print(min)\n",
    "\n",
    "max=np.max(x)\n",
    "print(max)\n",
    "\n",
    "\n",
    "    \n",
    "std=np.std(x)\n",
    "print(std)\n",
    "\n",
    "median=np.median(x)\n",
    "print(median)"
   ]
  },
  {
   "cell_type": "code",
   "execution_count": 120,
   "id": "7130de56-b6c8-429d-947f-1f3cc7ceafd8",
   "metadata": {},
   "outputs": [
    {
     "name": "stdout",
     "output_type": "stream",
     "text": [
      "Mean=5.166666666666667\n",
      "Mean=5.17\n",
      "Mean=5.1667\n"
     ]
    }
   ],
   "source": [
    "mean=np.mean(x)\n",
    "print(f'Mean={mean}')\n",
    "\n",
    "mean=np.mean(x)\n",
    "print(f'Mean={mean:.2f}')\n",
    "\n",
    "mean=np.mean(x)\n",
    "print(f'Mean={mean:.4f}')"
   ]
  },
  {
   "cell_type": "code",
   "execution_count": null,
   "id": "3bc4a7fc-5371-4a9d-9669-3c245a2cd94c",
   "metadata": {},
   "outputs": [],
   "source": []
  }
 ],
 "metadata": {
  "kernelspec": {
   "display_name": "Python [conda env:base] *",
   "language": "python",
   "name": "conda-base-py"
  },
  "language_info": {
   "codemirror_mode": {
    "name": "ipython",
    "version": 3
   },
   "file_extension": ".py",
   "mimetype": "text/x-python",
   "name": "python",
   "nbconvert_exporter": "python",
   "pygments_lexer": "ipython3",
   "version": "3.12.7"
  }
 },
 "nbformat": 4,
 "nbformat_minor": 5
}
